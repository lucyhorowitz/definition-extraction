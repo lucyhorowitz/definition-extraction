{
 "cells": [
  {
   "cell_type": "code",
   "execution_count": 2,
   "id": "17b27b9e",
   "metadata": {},
   "outputs": [],
   "source": [
    "# make just a plain old list of adjective-noun pairs in whatever order they show up\n",
    "\n",
    "conll_defs = open('/Users/lucyhorowitz/Documents/spaCy-Obsidian project/tac/hyph.conllu', 'r')\n",
    "wordlist = conll_defs.readlines()\n",
    "\n",
    "compounds = open('hyph-an-list.txt', 'a')\n",
    "\n",
    "for i in range(len(wordlist)):\n",
    "    if wordlist[i].__contains__('#'):\n",
    "        i = i + 1\n",
    "    elif wordlist[i].__contains__('ADJ') and (wordlist[i+1].__contains__('NOUN') or wordlist[i+1].__contains__('ADJ')):\n",
    "        to_print = wordlist[i].split('\\t')[2]\n",
    "        while wordlist[i+1].__contains__('NOUN') or wordlist[i+1].__contains__('ADJ') or wordlist[i+1].__contains__('compound') or wordlist[i+1].__contains__('HYPH'):\n",
    "            i = i + 1\n",
    "            to_print = to_print + ' ' + wordlist[i].split('\\t')[2]\n",
    "        compounds.write(to_print + '\\n')\n",
    "    else:\n",
    "        i = i + 1\n",
    "\n",
    "# this has the problem of including adjectives after adjective-noun pairs... worth fixing?"
   ]
  },
  {
   "cell_type": "code",
   "execution_count": 4,
   "id": "f0342197",
   "metadata": {},
   "outputs": [],
   "source": [
    "# order these things by frequency\n",
    "import collections\n",
    "from collections import OrderedDict\n",
    "from operator import itemgetter\n",
    "\n",
    "compound_list = open('pt100-an-list.txt', 'r').readlines()\n",
    "for i in range(len(compound_list)):\n",
    "    compound_list[i] = compound_list[i][:len(compound_list[i]) - 1]\n",
    "counter = collections.Counter(compound_list)\n",
    "ordered = OrderedDict(sorted(counter.items(), key = itemgetter(1), reverse=True))\n",
    "sorted_compounds = open('pt100-ans.txt', 'a')\n",
    "\n",
    "for compound in ordered:\n",
    "    sorted_compounds.write(compound + ': ' + str(counter[compound]) + '\\n')\n"
   ]
  }
 ],
 "metadata": {
  "kernelspec": {
   "display_name": "Python 3 (ipykernel)",
   "language": "python",
   "name": "python3"
  },
  "language_info": {
   "codemirror_mode": {
    "name": "ipython",
    "version": 3
   },
   "file_extension": ".py",
   "mimetype": "text/x-python",
   "name": "python",
   "nbconvert_exporter": "python",
   "pygments_lexer": "ipython3",
   "version": "3.11.2"
  },
  "vscode": {
   "interpreter": {
    "hash": "7e1998ff7f8aa20ada591c520b972326324e5ea05489af9e422744c7c09f6dad"
   }
  }
 },
 "nbformat": 4,
 "nbformat_minor": 5
}
