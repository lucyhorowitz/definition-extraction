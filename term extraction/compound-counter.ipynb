{
 "cells": [
  {
   "cell_type": "code",
   "execution_count": 2,
   "id": "17b27b9e",
   "metadata": {},
   "outputs": [],
   "source": [
    "# make just a plain old list of compounds in whatever order they show up\n",
    "\n",
    "conll_defs = open('/Users/lucyhorowitz/Documents/spaCy-Obsidian project/pilot test/PilotTest100.conllu', 'r') # put in conllu file you want to count in\n",
    "wordlist = conll_defs.readlines()\n",
    "\n",
    "compounds = open('pt100-compound-list.txt', 'a') #where you want the list to go\n",
    "\n",
    "for i in range(len(wordlist)):\n",
    "    try:\n",
    "        if wordlist[i].__contains__('compound'):\n",
    "            to_print = ''\n",
    "            if wordlist[i-1].__contains__('ADJ') or wordlist[i-1].__contains__('HYPH'):\n",
    "                to_print = to_print + ' ' + wordlist[i-1].split('\\t')[2]\n",
    "            to_print = to_print + ' ' + wordlist[i].split('\\t')[2] + ' ' + wordlist[i + 1].split('\\t')[2]\n",
    "            j = i + 1\n",
    "            while wordlist[j].__contains__('compound') or wordlist[j].__contains__('HYPH'):\n",
    "                to_print = to_print + ' ' + wordlist[j + 1].split('\\t')[2]\n",
    "                j = j + 1\n",
    "            compounds.write(to_print + '\\n')\n",
    "            i = j\n",
    "        else:\n",
    "            i = i + 1\n",
    "    except:\n",
    "        print('problem')\n",
    "        i = i + 1"
   ]
  },
  {
   "cell_type": "code",
   "execution_count": 4,
   "id": "f0342197",
   "metadata": {},
   "outputs": [],
   "source": [
    "# order these things by frequency\n",
    "import collections\n",
    "from collections import OrderedDict\n",
    "from operator import itemgetter\n",
    "\n",
    "compound_list = open('pt100-compound-list.txt', 'r').readlines() #the list from before\n",
    "for i in range(len(compound_list)):\n",
    "    compound_list[i] = compound_list[i][:len(compound_list[i]) - 1]\n",
    "counter = collections.Counter(compound_list)\n",
    "ordered = OrderedDict(sorted(counter.items(), key = itemgetter(1), reverse=True))\n",
    "sorted_compounds = open('pt100-compounds.txt', 'a') #where to sort and print the counts\n",
    "\n",
    "for compound in ordered:\n",
    "    sorted_compounds.write(compound + ': ' + str(counter[compound]) + '\\n')\n"
   ]
  },
  {
   "cell_type": "code",
   "execution_count": 5,
   "id": "37ece3ef",
   "metadata": {},
   "outputs": [],
   "source": [
    "pretrim = open('pn-compound-list.txt', 'r').readlines()\n",
    "\n",
    "pretrim = [term.strip() for term in pretrim]\n",
    "\n",
    "with open('pn-compound-list-2.txt','a') as nlab:\n",
    "    for term in pretrim:\n",
    "        nlab.write(term + '\\n')"
   ]
  }
 ],
 "metadata": {
  "kernelspec": {
   "display_name": "Python 3 (ipykernel)",
   "language": "python",
   "name": "python3"
  },
  "language_info": {
   "codemirror_mode": {
    "name": "ipython",
    "version": 3
   },
   "file_extension": ".py",
   "mimetype": "text/x-python",
   "name": "python",
   "nbconvert_exporter": "python",
   "pygments_lexer": "ipython3",
   "version": "3.10.7"
  },
  "vscode": {
   "interpreter": {
    "hash": "7e1998ff7f8aa20ada591c520b972326324e5ea05489af9e422744c7c09f6dad"
   }
  }
 },
 "nbformat": 4,
 "nbformat_minor": 5
}
